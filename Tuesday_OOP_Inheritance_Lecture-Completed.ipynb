{
 "cells": [
  {
   "cell_type": "markdown",
   "metadata": {},
   "source": [
    "# Object-Oriented-Programming (OOP)"
   ]
  },
  {
   "cell_type": "markdown",
   "metadata": {},
   "source": [
    "## Tasks Today:\n",
    "\n",
    "   \n",
    "1) <b>Dunder Methods</b> <br>\n",
    " &nbsp;&nbsp;&nbsp;&nbsp; a) The \\__str\\__() Method <br>\n",
    " &nbsp;&nbsp;&nbsp;&nbsp; b) The \\__repr\\__() Method <br>\n",
    " &nbsp;&nbsp;&nbsp;&nbsp; c) Other Magic Methods <br>\n",
    " &nbsp;&nbsp;&nbsp;&nbsp; d) In-Class Exercise #1 - Create a class Animal that displays the species and animal name when printed <br>  \n",
    "2) <b>Inheritance</b> <br>\n",
    " &nbsp;&nbsp;&nbsp;&nbsp; a) Syntax for Inheriting from a Parent Class <br>\n",
    " &nbsp;&nbsp;&nbsp;&nbsp; b) The \\__init\\__() Method for a Child Class (super()) <br>\n",
    " &nbsp;&nbsp;&nbsp;&nbsp; c) Defining Attributes and Methods for the Child Class <br>\n",
    " &nbsp;&nbsp;&nbsp;&nbsp; d) Method Overriding <br>\n",
    " &nbsp;&nbsp;&nbsp;&nbsp; e) In-Class Exercise #2 - Create a class 'Ford' that inherits from 'Car' class and initialize it as a Blue Ford Explorer with 4 wheels using the super() method <br>\n",
    "3) <b>Modules</b> <br>\n",
    " &nbsp;&nbsp;&nbsp;&nbsp; a) Importing Modules<br>\n",
    " &nbsp;&nbsp;&nbsp;&nbsp; b) Importing from modules <br>\n",
    " &nbsp;&nbsp;&nbsp;&nbsp; c) Aliasing <br>\n",
    " &nbsp;&nbsp;&nbsp;&nbsp; d) Creating Modules <br>\n"
   ]
  },
  {
   "cell_type": "markdown",
   "metadata": {},
   "source": [
    "### Warm Up"
   ]
  },
  {
   "cell_type": "markdown",
   "metadata": {},
   "source": [
    "Create a class for a Book that has instance attributes for `title`, `author`, `num_of_pages`, and `price`. Each book instance should also have a `current_page` attribute that starts at 0. Add a method called `read` that takes in number of pages. The method should update the what the current page is. If the `current_page` goes over the `num_of_pages`, print that the book is finished and reset the `current_page` to 0"
   ]
  },
  {
   "cell_type": "code",
   "execution_count": 1,
   "metadata": {},
   "outputs": [
    {
     "name": "stdout",
     "output_type": "stream",
     "text": [
      "Congrats on purchasing Library by Matt H for $28.00\n",
      "You are currently on page 45.\n",
      "You are currently on page 104.\n",
      "You are currently on page 146.\n",
      "You are currently on page 230.\n",
      "You are currently on page 292.\n"
     ]
    }
   ],
   "source": [
    "class Book:\n",
    "    def __init__(self, title, author, num_of_pages, price):\n",
    "        self.title = title\n",
    "        self.author = author\n",
    "        self.num_of_pages = num_of_pages\n",
    "        self.price = price\n",
    "        self.current_page = 0\n",
    "        print(f\"Congrats on purchasing {title} by {author} for ${price:.2f}\")\n",
    "  \n",
    "    def read(self, num_pages):\n",
    "        self.current_page += num_pages\n",
    "        if self.current_page >= self.num_of_pages:\n",
    "            print(f\"{self.title} by {self.author} is finished!\")\n",
    "            self.current_page = 0\n",
    "        else:\n",
    "            print(f\"You are currently on page {self.current_page}.\")\n",
    "\n",
    "        \n",
    "book = Book(\"Library\", \"Matt H\", 320, 28.00)\n",
    "book.read(45)\n",
    "book.read(59)\n",
    "book.read(42)\n",
    "book.read(84)\n",
    "book.read(62)    \n",
    "        \n",
    "    \n",
    "    "
   ]
  },
  {
   "cell_type": "code",
   "execution_count": 2,
   "metadata": {},
   "outputs": [
    {
     "name": "stdout",
     "output_type": "stream",
     "text": [
      "Congrats on purchasing The Midnight Library by Matt Haig for $26.00\n",
      "You are currently on page 45.\n",
      "You are currently on page 104.\n",
      "You are currently on page 146.\n",
      "You are currently on page 230.\n",
      "The Midnight Library by Matt Haig is finished!\n"
     ]
    }
   ],
   "source": [
    "book = Book(\"The Midnight Library\", \"Matt Haig\", 288, 26.00)\n",
    "book.read(45)\n",
    "book.read(59)\n",
    "book.read(42)\n",
    "book.read(84)\n",
    "book.read(62)"
   ]
  },
  {
   "cell_type": "markdown",
   "metadata": {},
   "source": [
    "## Dunder Methods"
   ]
  },
  {
   "cell_type": "markdown",
   "metadata": {},
   "source": [
    "#### \\__str\\__()"
   ]
  },
  {
   "cell_type": "code",
   "execution_count": 3,
   "metadata": {
    "scrolled": true
   },
   "outputs": [
    {
     "name": "stdout",
     "output_type": "stream",
     "text": [
      "red Toyota Camry\n",
      "green Ford Focus\n",
      "blue Buick Verano\n"
     ]
    }
   ],
   "source": [
    "class Car:\n",
    "    def __init__(self, color, make, model):\n",
    "        self.color = color\n",
    "        self.make = make\n",
    "        self.model = model\n",
    "        \n",
    "    def __str__(self):\n",
    "        return f'{self.color} {self.make} {self.model}'\n",
    "    \n",
    "car1 = Car('red', 'Toyota', 'Camry')\n",
    "car2 = Car('green', 'Ford', 'Focus')\n",
    "car3 = Car('blue', 'Buick', 'Verano')\n",
    "\n",
    "print(car1)\n",
    "print(car2)\n",
    "print(car3)"
   ]
  },
  {
   "cell_type": "code",
   "execution_count": 4,
   "metadata": {},
   "outputs": [
    {
     "name": "stdout",
     "output_type": "stream",
     "text": [
      "Do you like my new red Toyota Camry?\n"
     ]
    }
   ],
   "source": [
    "print(f\"Do you like my new {car1}?\")"
   ]
  },
  {
   "cell_type": "markdown",
   "metadata": {},
   "source": [
    "#### \\__repr\\__()"
   ]
  },
  {
   "cell_type": "code",
   "execution_count": 5,
   "metadata": {
    "scrolled": true
   },
   "outputs": [
    {
     "name": "stdout",
     "output_type": "stream",
     "text": [
      "red Toyota Camry\n",
      "green Ford Focus\n"
     ]
    }
   ],
   "source": [
    "# If the __repr__() is definged but the __str__() is not, then __str__ ==__rpr__\n",
    "class Car:\n",
    "    def __init__(self, color, make, model):\n",
    "        self.color = color\n",
    "        self.make = make\n",
    "        self.model = model\n",
    "        \n",
    "    def __str__(self):\n",
    "        return f'{self.color} {self.make} {self.model}'\n",
    "    \n",
    "    def __repr__(self):\n",
    "        return f'<Car | {self.make} {self.model}>'\n",
    "    \n",
    "car1 = Car('red', 'Toyota', 'Camry')\n",
    "car2 = Car('green', 'Ford', 'Focus')\n",
    "\n",
    "print(car1)\n",
    "print(car2)"
   ]
  },
  {
   "cell_type": "code",
   "execution_count": 6,
   "metadata": {},
   "outputs": [
    {
     "data": {
      "text/plain": [
       "<Car | Toyota Camry>"
      ]
     },
     "execution_count": 6,
     "metadata": {},
     "output_type": "execute_result"
    }
   ],
   "source": [
    "car1"
   ]
  },
  {
   "cell_type": "code",
   "execution_count": 7,
   "metadata": {},
   "outputs": [
    {
     "data": {
      "text/plain": [
       "<Car | Ford Focus>"
      ]
     },
     "execution_count": 7,
     "metadata": {},
     "output_type": "execute_result"
    }
   ],
   "source": [
    "car2"
   ]
  },
  {
   "cell_type": "markdown",
   "metadata": {},
   "source": [
    "#### \\__lt\\__(), \\__lte\\__(), \\__eq\\__(), etc"
   ]
  },
  {
   "cell_type": "code",
   "execution_count": null,
   "metadata": {},
   "outputs": [],
   "source": []
  },
  {
   "cell_type": "code",
   "execution_count": 8,
   "metadata": {},
   "outputs": [
    {
     "name": "stdout",
     "output_type": "stream",
     "text": [
      "Cup: $5.00 x 10\n",
      "Lamp: $50.00 x 1\n"
     ]
    }
   ],
   "source": [
    "class Item:\n",
    "    def __init__(self, name, price, quantity):\n",
    "        self.name = name\n",
    "        self.price = price\n",
    "        self.quantity = quantity\n",
    "        \n",
    "    def __str__(self):\n",
    "        return f\"{self.name}: ${self.price:.2f} x {self.quantity}\"\n",
    "    \n",
    "    def __repr__(self):\n",
    "        return f\"<Item|{self.name}>\"\n",
    "    \n",
    "    def __lt__(self, other_item):\n",
    "        return self.price * self.quantity < other_item.price * other_item.quantity\n",
    "    \n",
    "#     def __le__(self, other_item):\n",
    "#         return self.price * self.quantity == other_item.price * other_item.quantity\n",
    "    \n",
    "    def __add__(self, value_to_add):\n",
    "        self.quantity += value_to_add\n",
    "        return self\n",
    "    \n",
    "    def __sub__(self, value_to_add):\n",
    "        self.quantity -= value_to_add\n",
    "        return self\n",
    "    \n",
    "item1 = Item('Cup', 5, 10)\n",
    "print(item1)\n",
    "item2 = Item('Lamp', 50.00, 1)\n",
    "print(item2)"
   ]
  },
  {
   "cell_type": "code",
   "execution_count": 9,
   "metadata": {},
   "outputs": [
    {
     "data": {
      "text/plain": [
       "False"
      ]
     },
     "execution_count": 9,
     "metadata": {},
     "output_type": "execute_result"
    }
   ],
   "source": [
    "item1 > item2"
   ]
  },
  {
   "cell_type": "code",
   "execution_count": 10,
   "metadata": {},
   "outputs": [
    {
     "data": {
      "text/plain": [
       "<Item|Cup>"
      ]
     },
     "execution_count": 10,
     "metadata": {},
     "output_type": "execute_result"
    }
   ],
   "source": [
    "item1 + 3"
   ]
  },
  {
   "cell_type": "code",
   "execution_count": 11,
   "metadata": {},
   "outputs": [
    {
     "name": "stdout",
     "output_type": "stream",
     "text": [
      "Cup: $5.00 x 13\n"
     ]
    }
   ],
   "source": [
    "print(item1)"
   ]
  },
  {
   "cell_type": "code",
   "execution_count": 12,
   "metadata": {},
   "outputs": [
    {
     "name": "stdout",
     "output_type": "stream",
     "text": [
      "Cup: $5.00 x 23\n"
     ]
    }
   ],
   "source": [
    "item1 += 10\n",
    "print(item1)"
   ]
  },
  {
   "cell_type": "code",
   "execution_count": 13,
   "metadata": {},
   "outputs": [
    {
     "name": "stdout",
     "output_type": "stream",
     "text": [
      "Cup: $5.00 x 8\n"
     ]
    }
   ],
   "source": [
    "item1 -= 15\n",
    "print(item1)"
   ]
  },
  {
   "cell_type": "markdown",
   "metadata": {},
   "source": [
    "#### In-class Exercise 1"
   ]
  },
  {
   "cell_type": "code",
   "execution_count": 14,
   "metadata": {},
   "outputs": [
    {
     "ename": "IndentationError",
     "evalue": "expected an indented block (2541166628.py, line 4)",
     "output_type": "error",
     "traceback": [
      "\u001b[1;36m  File \u001b[1;32m\"C:\\Users\\weaar\\AppData\\Local\\Temp\\ipykernel_6332\\2541166628.py\"\u001b[1;36m, line \u001b[1;32m4\u001b[0m\n\u001b[1;33m    leo = Animal('Leo', 'lion')\u001b[0m\n\u001b[1;37m    ^\u001b[0m\n\u001b[1;31mIndentationError\u001b[0m\u001b[1;31m:\u001b[0m expected an indented block\n"
     ]
    }
   ],
   "source": [
    "# Create a class Animal that displays the name and species when printed\n",
    "class Animal():\n",
    "\n",
    "leo = Animal('Leo', 'lion')\n",
    "\n",
    "print(leo) # Leo the Lion\n",
    "\n",
    "\n",
    "buddy = Animal('Buddy', 'dog')\n",
    "print(buddy) # Buddy the Dog"
   ]
  },
  {
   "cell_type": "markdown",
   "metadata": {},
   "source": [
    "## Inheritance <br>\n",
    "<p>You can create a child-parent relationship between two classes by using inheritance. What this allows you to do is have overriding methods, but also inherit traits from the parent class. Think of it as an actual parent and child, the child will inherit the parent's genes, as will the classes in OOP</p>"
   ]
  },
  {
   "cell_type": "markdown",
   "metadata": {},
   "source": [
    "##### Syntax for Inheriting from a Parent Class"
   ]
  },
  {
   "cell_type": "code",
   "execution_count": null,
   "metadata": {},
   "outputs": [],
   "source": [
    "# Syntax: class Child(Parent):\n",
    "\n",
    "class Rectangle: # Parent Class\n",
    "    sides = 4 # Class Attribute\n",
    "    \n",
    "    def __init__(self, length, width):\n",
    "        print('This is the Rectangle __init__ method')\n",
    "        self.length = length\n",
    "        self.width = width\n",
    "        \n",
    "    def __str__(self):\n",
    "        return f\"Length: {self.length} x Width: {self.width}\"\n",
    "    \n",
    "    def area(self):\n",
    "        print('This is the Rectangle area method')\n",
    "        return self.length * self.width\n",
    "    \n",
    "    def perimeter(self):\n",
    "        return 2*self.length + 2*self.width \n",
    "    \n",
    "class Square(Rectangle):\n",
    "    pass\n",
    "\n",
    "    \n",
    "    \n",
    "my_rectangle = Rectangle(10, 15)\n",
    "print(my_rectangle)\n",
    "print(my_rectangle.area())\n",
    "print(my_rectangle.perimeter())\n",
    "print('='* 50)\n",
    "my_square = Square(5,5)\n",
    "print(my_square)\n",
    "print(my_square.area())\n",
    "print(my_square.perimeter())"
   ]
  },
  {
   "cell_type": "code",
   "execution_count": null,
   "metadata": {},
   "outputs": [],
   "source": [
    "help(Square)"
   ]
  },
  {
   "cell_type": "markdown",
   "metadata": {},
   "source": [
    "##### The \\__init\\__() Method for a Child Class - super()"
   ]
  },
  {
   "cell_type": "code",
   "execution_count": null,
   "metadata": {
    "scrolled": true
   },
   "outputs": [],
   "source": [
    "class Rectangle:\n",
    "    def __init__(self, length, width):\n",
    "        print('This is the Rectangle __init__ method')\n",
    "        self.length = length\n",
    "        self.width = width\n",
    "\n",
    "    def area(self):\n",
    "        print('This is the Rectangle area method')\n",
    "        return self.length * self.width\n",
    "    \n",
    "    def perimeter(self):\n",
    "        print('This is the Rectangle area method')\n",
    "        return 2*(self.length) + 2*(self.width)\n",
    "    \n",
    "    \n",
    "class Square(Rectangle):\n",
    "    def __init__(self, side):\n",
    "        print('This is the Square __init__ method')\n",
    "        super().__init__(side, side)\n",
    "        self.all_sides_equal = True\n",
    "        \n",
    "\n",
    "class Triangle(Rectangle):\n",
    "    def __init__(self, base, height):\n",
    "        print('This is the Triangle __init__ method')\n",
    "        super().__init__(base, height)\n",
    "        \n",
    "    def area(self):\n",
    "        print('This is the Triangle area method')\n",
    "        area = super().area()\n",
    "        return area / 2\n",
    "        \n"
   ]
  },
  {
   "cell_type": "code",
   "execution_count": null,
   "metadata": {},
   "outputs": [],
   "source": [
    "my_square = Square(4)"
   ]
  },
  {
   "cell_type": "code",
   "execution_count": null,
   "metadata": {
    "scrolled": true
   },
   "outputs": [],
   "source": [
    "my_square.area()"
   ]
  },
  {
   "cell_type": "code",
   "execution_count": null,
   "metadata": {},
   "outputs": [],
   "source": [
    "my_square.perimeter()"
   ]
  },
  {
   "cell_type": "code",
   "execution_count": null,
   "metadata": {},
   "outputs": [],
   "source": [
    "my_triangle = Triangle(10,5)\n",
    "my_triangle.area()"
   ]
  },
  {
   "cell_type": "markdown",
   "metadata": {},
   "source": [
    "#### In-class Exercise 2"
   ]
  },
  {
   "cell_type": "markdown",
   "metadata": {},
   "source": [
    "Create a Car class that has a drive and fill up method, and then create a Ford class that inherits from the car class."
   ]
  },
  {
   "cell_type": "code",
   "execution_count": 18,
   "metadata": {},
   "outputs": [
    {
     "name": "stdout",
     "output_type": "stream",
     "text": [
      "Ford\n",
      "blue Ford Focus is driving\n",
      "Filling up blue Ford Focus\n",
      "red Toyota Camry is driving\n",
      "Filling up red Toyota Camry\n"
     ]
    }
   ],
   "source": [
    "class Car:\n",
    "    \n",
    "    def __init__(self, color, make, model):\n",
    "        self.color = color\n",
    "        self.make = make\n",
    "        self.model = model\n",
    "    \n",
    "    def __str__(self):\n",
    "        return f\"{self.color} {self.make} {self.model}\".title()\n",
    "    \n",
    "    def drive(self):\n",
    "        print(f\"{self.color} {self.make} {self.model} is driving\")\n",
    "    \n",
    "    def fill_up(self):\n",
    "        print(f\"Filling up {self.color} {self.make} {self.model}\")\n",
    "\n",
    "class Ford(Car):\n",
    "    def __init__(self, color, model):\n",
    "        super().__init__(color, 'Ford', model)\n",
    "    \n",
    "class Toyota(Car):\n",
    "    def __init__(self, color, model):\n",
    "        super().__init__(color, 'Toyota', model)\n",
    "my_car = Ford('blue', 'Focus')\n",
    "\n",
    "print(my_car.make) # 'Ford'\n",
    "\n",
    "my_car.drive() # 'blue Ford Focus is driving'\n",
    "\n",
    "my_car.fill_up() # 'Filling up blue Ford Focus'\n",
    "\n",
    "my_other_car = Toyota('red', 'Camry')\n",
    "\n",
    "my_other_car.drive()\n",
    "my_other_car.fill_up()\n"
   ]
  },
  {
   "cell_type": "markdown",
   "metadata": {},
   "source": [
    "## Modules"
   ]
  },
  {
   "cell_type": "markdown",
   "metadata": {},
   "source": [
    "##### Importing Entire Modules"
   ]
  },
  {
   "cell_type": "code",
   "execution_count": 21,
   "metadata": {},
   "outputs": [
    {
     "name": "stdout",
     "output_type": "stream",
     "text": [
      "<module 'math' (built-in)>\n",
      "3.141592653589793\n",
      "120\n"
     ]
    },
    {
     "data": {
      "text/plain": [
       "6"
      ]
     },
     "execution_count": 21,
     "metadata": {},
     "output_type": "execute_result"
    }
   ],
   "source": [
    "# import name_of_module\n",
    "\n",
    "import math\n",
    "\n",
    "print(math)\n",
    "print(math.pi)\n",
    "\n",
    "print(math.factorial(5))\n",
    "math.factorial(3)"
   ]
  },
  {
   "cell_type": "markdown",
   "metadata": {},
   "source": [
    "##### Importing Methods Only"
   ]
  },
  {
   "cell_type": "code",
   "execution_count": 22,
   "metadata": {},
   "outputs": [
    {
     "name": "stdout",
     "output_type": "stream",
     "text": [
      "<function median at 0x00000298F6C10C10>\n",
      "<function mean at 0x00000298F6C109D0>\n",
      "375.5\n",
      "233.5\n"
     ]
    }
   ],
   "source": [
    "# from module_name import class, function, constant, etc.\n",
    "\n",
    "from statistics import mean, median\n",
    "\n",
    "\n",
    "print(median)\n",
    "print(mean)\n",
    "\n",
    "my_list = [13, 6, 234, 1346, 233, 335, 23, 6, 1235, 324]\n",
    "\n",
    "print(mean(my_list))\n",
    "print(median(my_list))"
   ]
  },
  {
   "cell_type": "markdown",
   "metadata": {},
   "source": [
    "##### Using the 'as' Keyword"
   ]
  },
  {
   "cell_type": "code",
   "execution_count": 27,
   "metadata": {},
   "outputs": [
    {
     "name": "stdout",
     "output_type": "stream",
     "text": [
      "86\n",
      "54\n"
     ]
    }
   ],
   "source": [
    "# import module as new_name\n",
    "# from module import function as f\n",
    "\n",
    "from random import randint as ri\n",
    "\n",
    "print(ri(1, 100))\n",
    "\n",
    "from random import randrange as rr\n",
    "\n",
    "print(rr(1,100))"
   ]
  },
  {
   "cell_type": "code",
   "execution_count": null,
   "metadata": {},
   "outputs": [],
   "source": [
    "import collections as c\n",
    "import matplotlib.pyplot as plt\n",
    "\n",
    "print(c)\n",
    "\n",
    "test = c.Counter('alsdkfdsklfjkldsj')\n",
    "print(test)"
   ]
  },
  {
   "cell_type": "code",
   "execution_count": null,
   "metadata": {},
   "outputs": [],
   "source": [
    "# Using VS Code\n",
    "import test_module\n",
    "\n",
    "print(test_module)"
   ]
  },
  {
   "cell_type": "code",
   "execution_count": null,
   "metadata": {},
   "outputs": [],
   "source": [
    "test_module.greet('Brian')\n"
   ]
  },
  {
   "cell_type": "code",
   "execution_count": null,
   "metadata": {},
   "outputs": [],
   "source": [
    "from test_module import greet\n",
    "\n",
    "greet('Taty')"
   ]
  },
  {
   "cell_type": "code",
   "execution_count": null,
   "metadata": {},
   "outputs": [],
   "source": [
    "from test_module import leave as say_bye\n",
    "\n",
    "\n",
    "say_bye('Taty')"
   ]
  },
  {
   "cell_type": "code",
   "execution_count": null,
   "metadata": {},
   "outputs": [],
   "source": []
  }
 ],
 "metadata": {
  "kernelspec": {
   "display_name": "Python 3 (ipykernel)",
   "language": "python",
   "name": "python3"
  },
  "language_info": {
   "codemirror_mode": {
    "name": "ipython",
    "version": 3
   },
   "file_extension": ".py",
   "mimetype": "text/x-python",
   "name": "python",
   "nbconvert_exporter": "python",
   "pygments_lexer": "ipython3",
   "version": "3.9.13"
  }
 },
 "nbformat": 4,
 "nbformat_minor": 2
}
