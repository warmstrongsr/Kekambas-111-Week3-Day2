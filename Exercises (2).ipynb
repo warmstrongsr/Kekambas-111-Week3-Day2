{
 "cells": [
  {
   "cell_type": "markdown",
   "metadata": {},
   "source": [
    "#### Exercise 1 - Class Inheritance"
   ]
  },
  {
   "cell_type": "markdown",
   "metadata": {},
   "source": [
    "Create an Employee class that sets an employee's first name, last name, job title, salary, and email. The Employee class should have a class attribute for the raise amount set to 5% (1.05). Create a method that will apply the raise to an employee's salary."
   ]
  },
  {
   "cell_type": "code",
   "execution_count": 10,
   "metadata": {},
   "outputs": [],
   "source": [
    "class Employee:\n",
    "    raise_amount = 1.05 # Class Attribute to raise salary 5%\n",
    "    \n",
    "    def __init__(self, first, last, job_title, salary, email):\n",
    "        self.first_name = first\n",
    "        self.last_name = last\n",
    "        self.job_title = job_title\n",
    "        self.salary = salary\n",
    "        self.email = first.lower() + '.' + last.lower() + \"@company.org\"\n",
    "    \n",
    "    def get_full_name(self):\n",
    "        return self.first_name + ' ' + self.last_name\n",
    "    \n",
    "    def change_last_name(self, new_last_name):\n",
    "        self.last_name = new_last_name\n",
    "        self.email = self.first_name.lower() + '.' + new_last_name.lower() + \"@company.org\"\n",
    "        \n",
    "    def apply_raise(self):\n",
    "        self.salary *= Employee.raise_amount # self.salary = self.salary * Employee.raise_amount\n",
    "        print(f\"Congrats {self.get_full_name()}, you have received a raise and your new salary is {self.salary:.2f}.\")\n",
    "\n",
    "    "
   ]
  },
  {
   "cell_type": "markdown",
   "metadata": {},
   "source": [
    "Create two more classes that inherit from the Employee class. One for Sales and one for Development. Both of these classes will have the same attributes as the Employee.<br>\n",
    "- For the Sales employees, add a phone number attribute on instantiation using the super method. \n",
    "- Create a method on the Sales class that will Send a Follow Up Email. It should take in a customer name and \"send\" aka print a formatted email \"Dear *customer*, Thank you for your interest in our product. Please let me know if you have any questions. My email is *email* or my phone number is *phone number*. Thanks, *full name*\"\n",
    "- Create a method on the Development class called code that will print out \"*full name* is writing code\"."
   ]
  },
  {
   "cell_type": "code",
   "execution_count": 2,
   "metadata": {},
   "outputs": [],
   "source": [
    "class Sales(Employee):\n",
    "    def __init__(self, first, last, job_title, salary, email, phone_number):\n",
    "        super().__init__(first, last, job_title,email, salary)\n",
    "        self.phone_number = phone_number \n",
    "        \n",
    "    def send_follow_up_email(self, customer_name):\n",
    "        message = f\"Dear {customer_name}, Thank you for your interest in our products. Please let me know if you have any questions. My email is {self.email} or my phone number is {self.phone_number}. Thanks, {self.get_full_name()}\"\n",
    "        print(message)\n",
    "\n",
    "class Development(Employee):\n",
    "    def __init__(self, first, last, job_title, salary, email):\n",
    "        super().__init__(first, last, job_title,salary, email)\n",
    "        \n",
    "    def code(self):\n",
    "        return f\"{self.get_full_name()} is writing code\""
   ]
  },
  {
   "cell_type": "markdown",
   "metadata": {},
   "source": [
    "- Create an instance of a Sales Employee with a salary of $50,000.\n",
    "- Send follow up emails to \"Mike O'Neil\" and \"Hannah Stern\"\n",
    "- Give the employee a raise and print the salary"
   ]
  },
  {
   "cell_type": "code",
   "execution_count": 3,
   "metadata": {},
   "outputs": [
    {
     "name": "stdout",
     "output_type": "stream",
     "text": [
      "Dear Mike O'Neil, Thank you for your interest in our products. Please let me know if you have any questions. My email is johnathan.doe@company.org or my phone number is 555-123-4567. Thanks, Johnathan Doe\n",
      "Dear Hannah Stern, Thank you for your interest in our products. Please let me know if you have any questions. My email is johnathan.doe@company.org or my phone number is 555-123-4567. Thanks, Johnathan Doe\n"
     ]
    }
   ],
   "source": [
    "sales_employee = Sales(\"Johnathan\", \"Doe\", \"Sales\", 50000, \"jdoe@sales.com\",  \"555-123-4567\")\n",
    "\n",
    "sales_employee.send_follow_up_email(\"Mike O'Neil\")\n",
    "sales_employee.send_follow_up_email(\"Hannah Stern\")"
   ]
  },
  {
   "cell_type": "markdown",
   "metadata": {},
   "source": [
    "- Create an instance of a Development Employee with a salary of $100,000\n",
    "- Write some code with this employee\n",
    "- Give the employee a raise and print the salary"
   ]
  },
  {
   "cell_type": "code",
   "execution_count": 11,
   "metadata": {},
   "outputs": [
    {
     "name": "stdout",
     "output_type": "stream",
     "text": [
      "Congrats Jane Doe, you have received a raise and your new salary is 105000.0\n",
      "Jane Doe's new salary is $105000.00.\n"
     ]
    }
   ],
   "source": [
    "dev_employee = Development(\"Jane\", \"Doe\", \"Development\", 100000, 'janedoe@devops.com')\n",
    "\n",
    "dev_employee.apply_raise()\n",
    "print(f\"{dev_employee.get_full_name()}'s new salary is ${dev_employee.salary:.2f}.\")"
   ]
  },
  {
   "cell_type": "markdown",
   "metadata": {},
   "source": [
    "#### Exercise 2 - Importing Modules"
   ]
  },
  {
   "cell_type": "markdown",
   "metadata": {},
   "source": [
    "In VS Code, create a module titled `geometry` and add two functions in there. One that will calculate the area of a circle given a radius. The second will find the hypotenuse of a right angle given the two sides. Import the module or the functions from the module and use it to find the answers to the below questions"
   ]
  },
  {
   "cell_type": "markdown",
   "metadata": {},
   "source": [
    "What is the area of a circle with a radius of 7cm?"
   ]
  },
  {
   "cell_type": "code",
   "execution_count": 7,
   "metadata": {
    "scrolled": true
   },
   "outputs": [
    {
     "data": {
      "text/plain": [
       "153.93804002589985"
      ]
     },
     "execution_count": 7,
     "metadata": {},
     "output_type": "execute_result"
    }
   ],
   "source": [
    "import geometry\n",
    "\n",
    "geometry.area_of_circle(7)"
   ]
  },
  {
   "cell_type": "markdown",
   "metadata": {},
   "source": [
    "What is the hypotenuse of a right angle with sides of 3in and 4in?"
   ]
  },
  {
   "cell_type": "code",
   "execution_count": 8,
   "metadata": {},
   "outputs": [
    {
     "data": {
      "text/plain": [
       "5.0"
      ]
     },
     "execution_count": 8,
     "metadata": {},
     "output_type": "execute_result"
    }
   ],
   "source": [
    "\n",
    "geometry.hypotenuse(3, 4)"
   ]
  }
 ],
 "metadata": {
  "kernelspec": {
   "display_name": "Python 3 (ipykernel)",
   "language": "python",
   "name": "python3"
  },
  "language_info": {
   "codemirror_mode": {
    "name": "ipython",
    "version": 3
   },
   "file_extension": ".py",
   "mimetype": "text/x-python",
   "name": "python",
   "nbconvert_exporter": "python",
   "pygments_lexer": "ipython3",
   "version": "3.9.13"
  }
 },
 "nbformat": 4,
 "nbformat_minor": 4
}
